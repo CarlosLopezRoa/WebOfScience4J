{
 "cells": [
  {
   "cell_type": "code",
   "execution_count": 26,
   "metadata": {
    "collapsed": true
   },
   "outputs": [],
   "source": [
    "from neo4j.v1 import GraphDatabase, basic_auth\n",
    "import itertools"
   ]
  },
  {
   "cell_type": "code",
   "execution_count": 14,
   "metadata": {
    "collapsed": false
   },
   "outputs": [],
   "source": [
    "driver = GraphDatabase.driver(\"bolt://localhost\", auth=basic_auth(\"neo4j\", \"dmkm1234\"))"
   ]
  },
  {
   "cell_type": "code",
   "execution_count": 15,
   "metadata": {
    "collapsed": false
   },
   "outputs": [],
   "source": [
    "session = driver.session()"
   ]
  },
  {
   "cell_type": "code",
   "execution_count": 39,
   "metadata": {
    "collapsed": false
   },
   "outputs": [
    {
     "name": "stdout",
     "output_type": "stream",
     "text": [
      "[(165691, 165691), (165691, 39429), (165691, 379516), (165691, 210811), (39429, 165691), (39429, 39429), (39429, 379516), (39429, 210811), (379516, 165691), (379516, 39429), (379516, 379516), (379516, 210811), (210811, 165691), (210811, 39429), (210811, 379516), (210811, 210811)]\n"
     ]
    }
   ],
   "source": [
    "result = session.run(\"MATCH (ar:Articles)-[:isArticle]-(s:Signatures)-[:isAuthor]-(au:Authors) WHERE ar.article_id=1 RETURN collect(au.author_id) as authorlist limit 10\")\n",
    "for record in result:\n",
    "    print(list(itertools.product(record['authorlist'],record['authorlist'])))"
   ]
  },
  {
   "cell_type": "code",
   "execution_count": null,
   "metadata": {
    "collapsed": true
   },
   "outputs": [],
   "source": [
    "session.close()"
   ]
  }
 ],
 "metadata": {
  "kernelspec": {
   "display_name": "Python 2",
   "language": "python",
   "name": "python2"
  },
  "language_info": {
   "codemirror_mode": {
    "name": "ipython",
    "version": 2
   },
   "file_extension": ".py",
   "mimetype": "text/x-python",
   "name": "python",
   "nbconvert_exporter": "python",
   "pygments_lexer": "ipython2",
   "version": "2.7.6"
  }
 },
 "nbformat": 4,
 "nbformat_minor": 0
}
