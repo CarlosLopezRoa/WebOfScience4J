{
 "cells": [
  {
   "cell_type": "code",
   "execution_count": 57,
   "metadata": {
    "collapsed": false
   },
   "outputs": [],
   "source": [
    "from neo4j.v1 import GraphDatabase, basic_auth\n",
    "import itertools\n",
    "from joblib import Parallel, delayed\n",
    "%matplotlib inline\n",
    "import multiprocessing\n",
    "import time\n",
    "import plotly.plotly as py\n",
    "import numpy as np\n",
    "from scipy.cluster.hierarchy import dendrogram, linkage\n",
    "from plotly.tools import FigureFactory as FF"
   ]
  },
  {
   "cell_type": "code",
   "execution_count": 35,
   "metadata": {
    "collapsed": true
   },
   "outputs": [],
   "source": [
    "num_cores = multiprocessing.cpu_count()"
   ]
  },
  {
   "cell_type": "code",
   "execution_count": 36,
   "metadata": {
    "collapsed": false
   },
   "outputs": [],
   "source": [
    "driver = GraphDatabase.driver(\"bolt://localhost\", auth=basic_auth(\"neo4j\", \"dmkm1234\"))"
   ]
  },
  {
   "cell_type": "code",
   "execution_count": 37,
   "metadata": {
    "collapsed": false
   },
   "outputs": [],
   "source": [
    "session = driver.session()"
   ]
  },
  {
   "cell_type": "code",
   "execution_count": 28,
   "metadata": {
    "collapsed": false
   },
   "outputs": [
    {
     "name": "stdout",
     "output_type": "stream",
     "text": [
      "0.131901025772\n"
     ]
    }
   ],
   "source": [
    "t = time.time()\n",
    "for i in range(0,400):\n",
    "    session.run(\"MATCH (ar:Articles)-[:isArticle]-(s:Signatures)-[:isAuthor]-(au:Authors) WHERE ar.article_id in range (%s,%s) WITH (ar.article_id) as article, collect(au.author_id) as authorlist MATCH (au1:Authors),(au2:Authors) WHERE au1.author_id in authorlist and au2.author_id in authorlist MERGE (au1)-[r:isCoauthor]-(au2)\" % (i*1000,(i+1)*1000))\n",
    "elapsed = time.time() - t\n",
    "print(elapsed)"
   ]
  },
  {
   "cell_type": "code",
   "execution_count": 27,
   "metadata": {
    "collapsed": false
   },
   "outputs": [
    {
     "name": "stdout",
     "output_type": "stream",
     "text": [
      "0.11606502533\n"
     ]
    }
   ],
   "source": [
    "t = time.time()\n",
    "for i in range(0,400):\n",
    "    session.run(\"MATCH (ar:Articles)-[:isArticle]-(s:Signatures)-[:isAuthor]-(au:Authors) WHERE ar.article_id in range(%s,%s) WITH (ar.article_id) as article, collect(au.author_id) as authorlist MATCH (ar:Articles),(au:Authors) WHERE ar.article_id = article and au.author_id in authorlist MERGE (ar)<-[r:isWritten]-(au)\"% (i*1000,(i+1)*1000) ) \n",
    "elapsed = time.time() - t\n",
    "print(elapsed)"
   ]
  },
  {
   "cell_type": "code",
   "execution_count": 92,
   "metadata": {
    "collapsed": false
   },
   "outputs": [
    {
     "name": "stdout",
     "output_type": "stream",
     "text": [
      "0.0450179576874\n"
     ]
    }
   ],
   "source": [
    "t = time.time()\n",
    "for i in range(0,98):\n",
    "    session.run(\"MATCH (n:Authors)-[r:isCoauthor]-(m:Authors) WITH n.author_id as ntop, COUNT(r) as rank  order by rank desc skip %s limit %s WITH collect(ntop) as autop MATCH (au1:Authors)-[r:isCoauthor]-(au2:Authors) WHERE au1.author_id in autop and au2.author_id in autop MERGE (au1)-[r2:isMain]-(au2)\" % (i*100,(i+1)*100))\n",
    "elapsed = time.time() - t\n",
    "print(elapsed)"
   ]
  },
  {
   "cell_type": "code",
   "execution_count": 9,
   "metadata": {
    "collapsed": false
   },
   "outputs": [
    {
     "name": "stdout",
     "output_type": "stream",
     "text": [
      "1.04347085953\n"
     ]
    }
   ],
   "source": [
    "t = time.time()\n",
    "result0 = session.run(\"MATCH p = (a1:Authors)-[r:isMain*0]-(a2:Authors) WHERE ID(a1) < ID (a2)  WITH (a1.author_id) as aa1, (a2.author_id) as aa2, length(p) as d RETURN (aa1), (aa2), min(d)\")\n",
    "for line in result0:\n",
    "    print (line)\n",
    "elapsed = time.time() - t\n",
    "print(elapsed)"
   ]
  },
  {
   "cell_type": "code",
   "execution_count": 11,
   "metadata": {
    "collapsed": false
   },
   "outputs": [
    {
     "name": "stdout",
     "output_type": "stream",
     "text": [
      "0.00289607048035\n"
     ]
    }
   ],
   "source": [
    "t = time.time()\n",
    "result1 = session.run(\"MATCH p = (a1:Authors)-[r:isMain*1]-(a2:Authors) WHERE ID(a1) < ID (a2)  WITH (a1.author_id) as aa1, (a2.author_id) as aa2, length(p) as d RETURN (aa1), (aa2), min(d)\")\n",
    "elapsed = time.time() - t\n",
    "print(elapsed)"
   ]
  },
  {
   "cell_type": "code",
   "execution_count": 12,
   "metadata": {
    "collapsed": false
   },
   "outputs": [
    {
     "name": "stdout",
     "output_type": "stream",
     "text": [
      "0.000517129898071\n"
     ]
    }
   ],
   "source": [
    "t = time.time()\n",
    "result2 = session.run(\"MATCH p = (a1:Authors)-[r:isMain*2]-(a2:Authors) WHERE ID(a1) < ID (a2)  WITH (a1.author_id) as aa1, (a2.author_id) as aa2, length(p) as d RETURN (aa1), (aa2), min(d)\")\n",
    "elapsed = time.time() - t\n",
    "print(elapsed)"
   ]
  },
  {
   "cell_type": "code",
   "execution_count": 38,
   "metadata": {
    "collapsed": false
   },
   "outputs": [],
   "source": [
    "dist = np.matrix('0,0,0')"
   ]
  },
  {
   "cell_type": "code",
   "execution_count": 60,
   "metadata": {
    "collapsed": false
   },
   "outputs": [
    {
     "name": "stdout",
     "output_type": "stream",
     "text": [
      "11.5645999908\n"
     ]
    },
    {
     "data": {
      "text/plain": [
       "1"
      ]
     },
     "execution_count": 60,
     "metadata": {},
     "output_type": "execute_result"
    }
   ],
   "source": [
    "t = time.time()\n",
    "result = session.run(\"MATCH p = (a1:Authors)-[r:isMain*1]-(a2:Authors) WHERE ID(a1) < ID (a2)  WITH (a1.author_id) as aa1, (a2.author_id) as aa2, length(p) as d RETURN (aa1), (aa2), min(d)\")\n",
    "for e in result:\n",
    "    np.append(dist,[[e[\"aa1\"],e[\"aa2\"],e[\"min(d)\"]]],axis=0)\n",
    "elapsed = time.time() - t\n",
    "print(elapsed)\n",
    "len(dist)"
   ]
  },
  {
   "cell_type": "code",
   "execution_count": 61,
   "metadata": {
    "collapsed": false
   },
   "outputs": [
    {
     "data": {
      "text/plain": [
       "matrix([[0, 0, 0]])"
      ]
     },
     "execution_count": 61,
     "metadata": {},
     "output_type": "execute_result"
    }
   ],
   "source": [
    "dist"
   ]
  },
  {
   "cell_type": "code",
   "execution_count": 58,
   "metadata": {
    "collapsed": false
   },
   "outputs": [
    {
     "ename": "ValueError",
     "evalue": "The number of observations cannot be determined on an empty distance matrix.",
     "output_type": "error",
     "traceback": [
      "\u001b[1;31m---------------------------------------------------------------------------\u001b[0m",
      "\u001b[1;31mValueError\u001b[0m                                Traceback (most recent call last)",
      "\u001b[1;32m<ipython-input-58-5f928e7eecef>\u001b[0m in \u001b[0;36m<module>\u001b[1;34m()\u001b[0m\n\u001b[1;32m----> 1\u001b[1;33m \u001b[0mdendro\u001b[0m \u001b[1;33m=\u001b[0m \u001b[0mFF\u001b[0m\u001b[1;33m.\u001b[0m\u001b[0mcreate_dendrogram\u001b[0m\u001b[1;33m(\u001b[0m\u001b[0mdist\u001b[0m\u001b[1;33m)\u001b[0m\u001b[1;33m\u001b[0m\u001b[0m\n\u001b[0m\u001b[0;32m      2\u001b[0m \u001b[0mdendro\u001b[0m\u001b[1;33m[\u001b[0m\u001b[1;34m'layout'\u001b[0m\u001b[1;33m]\u001b[0m\u001b[1;33m.\u001b[0m\u001b[0mupdate\u001b[0m\u001b[1;33m(\u001b[0m\u001b[1;33m{\u001b[0m\u001b[1;34m'width'\u001b[0m\u001b[1;33m:\u001b[0m\u001b[1;36m800\u001b[0m\u001b[1;33m,\u001b[0m \u001b[1;34m'height'\u001b[0m\u001b[1;33m:\u001b[0m\u001b[1;36m500\u001b[0m\u001b[1;33m}\u001b[0m\u001b[1;33m)\u001b[0m\u001b[1;33m\u001b[0m\u001b[0m\n\u001b[0;32m      3\u001b[0m \u001b[0mpy\u001b[0m\u001b[1;33m.\u001b[0m\u001b[0miplot\u001b[0m\u001b[1;33m(\u001b[0m\u001b[0mdendro\u001b[0m\u001b[1;33m,\u001b[0m \u001b[0mfilename\u001b[0m\u001b[1;33m=\u001b[0m\u001b[1;34m'simple_dendrogram'\u001b[0m\u001b[1;33m)\u001b[0m\u001b[1;33m\u001b[0m\u001b[0m\n",
      "\u001b[1;32m/usr/local/lib/python2.7/dist-packages/plotly/tools.pyc\u001b[0m in \u001b[0;36mcreate_dendrogram\u001b[1;34m(X, orientation, labels, colorscale)\u001b[0m\n\u001b[0;32m   5817\u001b[0m             \u001b[0mexceptions\u001b[0m\u001b[1;33m.\u001b[0m\u001b[0mPlotlyError\u001b[0m\u001b[1;33m(\u001b[0m\u001b[1;34m\"X should be 2-dimensional array.\"\u001b[0m\u001b[1;33m)\u001b[0m\u001b[1;33m\u001b[0m\u001b[0m\n\u001b[0;32m   5818\u001b[0m \u001b[1;33m\u001b[0m\u001b[0m\n\u001b[1;32m-> 5819\u001b[1;33m         \u001b[0mdendrogram\u001b[0m \u001b[1;33m=\u001b[0m \u001b[0m_Dendrogram\u001b[0m\u001b[1;33m(\u001b[0m\u001b[0mX\u001b[0m\u001b[1;33m,\u001b[0m \u001b[0morientation\u001b[0m\u001b[1;33m,\u001b[0m \u001b[0mlabels\u001b[0m\u001b[1;33m,\u001b[0m \u001b[0mcolorscale\u001b[0m\u001b[1;33m)\u001b[0m\u001b[1;33m\u001b[0m\u001b[0m\n\u001b[0m\u001b[0;32m   5820\u001b[0m \u001b[1;33m\u001b[0m\u001b[0m\n\u001b[0;32m   5821\u001b[0m         return {'layout': dendrogram.layout,\n",
      "\u001b[1;32m/usr/local/lib/python2.7/dist-packages/plotly/tools.pyc\u001b[0m in \u001b[0;36m__init__\u001b[1;34m(self, X, orientation, labels, colorscale, width, height, xaxis, yaxis)\u001b[0m\n\u001b[0;32m   6767\u001b[0m \u001b[1;33m\u001b[0m\u001b[0m\n\u001b[0;32m   6768\u001b[0m         (dd_traces, xvals, yvals,\n\u001b[1;32m-> 6769\u001b[1;33m             ordered_labels, leaves) = self.get_dendrogram_traces(X, colorscale)\n\u001b[0m\u001b[0;32m   6770\u001b[0m \u001b[1;33m\u001b[0m\u001b[0m\n\u001b[0;32m   6771\u001b[0m         \u001b[0mself\u001b[0m\u001b[1;33m.\u001b[0m\u001b[0mlabels\u001b[0m \u001b[1;33m=\u001b[0m \u001b[0mordered_labels\u001b[0m\u001b[1;33m\u001b[0m\u001b[0m\n",
      "\u001b[1;32m/usr/local/lib/python2.7/dist-packages/plotly/tools.pyc\u001b[0m in \u001b[0;36mget_dendrogram_traces\u001b[1;34m(self, X, colorscale)\u001b[0m\n\u001b[0;32m   6896\u001b[0m         \u001b[1;32mfrom\u001b[0m \u001b[0mplotly\u001b[0m\u001b[1;33m.\u001b[0m\u001b[0mgraph_objs\u001b[0m \u001b[1;32mimport\u001b[0m \u001b[0mgraph_objs\u001b[0m\u001b[1;33m\u001b[0m\u001b[0m\n\u001b[0;32m   6897\u001b[0m         \u001b[0md\u001b[0m \u001b[1;33m=\u001b[0m \u001b[0mscs\u001b[0m\u001b[1;33m.\u001b[0m\u001b[0mdistance\u001b[0m\u001b[1;33m.\u001b[0m\u001b[0mpdist\u001b[0m\u001b[1;33m(\u001b[0m\u001b[0mX\u001b[0m\u001b[1;33m)\u001b[0m\u001b[1;33m\u001b[0m\u001b[0m\n\u001b[1;32m-> 6898\u001b[1;33m         \u001b[0mZ\u001b[0m \u001b[1;33m=\u001b[0m \u001b[0msch\u001b[0m\u001b[1;33m.\u001b[0m\u001b[0mlinkage\u001b[0m\u001b[1;33m(\u001b[0m\u001b[0md\u001b[0m\u001b[1;33m,\u001b[0m \u001b[0mmethod\u001b[0m\u001b[1;33m=\u001b[0m\u001b[1;34m'complete'\u001b[0m\u001b[1;33m)\u001b[0m\u001b[1;33m\u001b[0m\u001b[0m\n\u001b[0m\u001b[0;32m   6899\u001b[0m         P = sch.dendrogram(Z, orientation=self.orientation,\n\u001b[0;32m   6900\u001b[0m                            labels=self.labels, no_plot=True)\n",
      "\u001b[1;32m/usr/local/lib/python2.7/dist-packages/scipy/cluster/hierarchy.pyc\u001b[0m in \u001b[0;36mlinkage\u001b[1;34m(y, method, metric)\u001b[0m\n\u001b[0;32m    629\u001b[0m     \u001b[1;32mif\u001b[0m \u001b[0mlen\u001b[0m\u001b[1;33m(\u001b[0m\u001b[0ms\u001b[0m\u001b[1;33m)\u001b[0m \u001b[1;33m==\u001b[0m \u001b[1;36m1\u001b[0m\u001b[1;33m:\u001b[0m\u001b[1;33m\u001b[0m\u001b[0m\n\u001b[0;32m    630\u001b[0m         \u001b[0mdistance\u001b[0m\u001b[1;33m.\u001b[0m\u001b[0mis_valid_y\u001b[0m\u001b[1;33m(\u001b[0m\u001b[0my\u001b[0m\u001b[1;33m,\u001b[0m \u001b[0mthrow\u001b[0m\u001b[1;33m=\u001b[0m\u001b[0mTrue\u001b[0m\u001b[1;33m,\u001b[0m \u001b[0mname\u001b[0m\u001b[1;33m=\u001b[0m\u001b[1;34m'y'\u001b[0m\u001b[1;33m)\u001b[0m\u001b[1;33m\u001b[0m\u001b[0m\n\u001b[1;32m--> 631\u001b[1;33m         \u001b[0md\u001b[0m \u001b[1;33m=\u001b[0m \u001b[0mdistance\u001b[0m\u001b[1;33m.\u001b[0m\u001b[0mnum_obs_y\u001b[0m\u001b[1;33m(\u001b[0m\u001b[0my\u001b[0m\u001b[1;33m)\u001b[0m\u001b[1;33m\u001b[0m\u001b[0m\n\u001b[0m\u001b[0;32m    632\u001b[0m         \u001b[1;32mif\u001b[0m \u001b[0mmethod\u001b[0m \u001b[1;32mnot\u001b[0m \u001b[1;32min\u001b[0m \u001b[0m_cpy_non_euclid_methods\u001b[0m\u001b[1;33m:\u001b[0m\u001b[1;33m\u001b[0m\u001b[0m\n\u001b[0;32m    633\u001b[0m             raise ValueError(\"Valid methods when the raw observations are \"\n",
      "\u001b[1;32m/usr/local/lib/python2.7/dist-packages/scipy/spatial/distance.pyc\u001b[0m in \u001b[0;36mnum_obs_y\u001b[1;34m(Y)\u001b[0m\n\u001b[0;32m   1747\u001b[0m     \u001b[0mk\u001b[0m \u001b[1;33m=\u001b[0m \u001b[0mY\u001b[0m\u001b[1;33m.\u001b[0m\u001b[0mshape\u001b[0m\u001b[1;33m[\u001b[0m\u001b[1;36m0\u001b[0m\u001b[1;33m]\u001b[0m\u001b[1;33m\u001b[0m\u001b[0m\n\u001b[0;32m   1748\u001b[0m     \u001b[1;32mif\u001b[0m \u001b[0mk\u001b[0m \u001b[1;33m==\u001b[0m \u001b[1;36m0\u001b[0m\u001b[1;33m:\u001b[0m\u001b[1;33m\u001b[0m\u001b[0m\n\u001b[1;32m-> 1749\u001b[1;33m         raise ValueError(\"The number of observations cannot be determined on \"\n\u001b[0m\u001b[0;32m   1750\u001b[0m                          \"an empty distance matrix.\")\n\u001b[0;32m   1751\u001b[0m     \u001b[0md\u001b[0m \u001b[1;33m=\u001b[0m \u001b[0mint\u001b[0m\u001b[1;33m(\u001b[0m\u001b[0mnp\u001b[0m\u001b[1;33m.\u001b[0m\u001b[0mceil\u001b[0m\u001b[1;33m(\u001b[0m\u001b[0mnp\u001b[0m\u001b[1;33m.\u001b[0m\u001b[0msqrt\u001b[0m\u001b[1;33m(\u001b[0m\u001b[0mk\u001b[0m \u001b[1;33m*\u001b[0m \u001b[1;36m2\u001b[0m\u001b[1;33m)\u001b[0m\u001b[1;33m)\u001b[0m\u001b[1;33m)\u001b[0m\u001b[1;33m\u001b[0m\u001b[0m\n",
      "\u001b[1;31mValueError\u001b[0m: The number of observations cannot be determined on an empty distance matrix."
     ]
    }
   ],
   "source": [
    "dendro = FF.create_dendrogram(dist)\n",
    "dendro['layout'].update({'width':800, 'height':500})\n",
    "py.iplot(dendro, filename='simple_dendrogram')"
   ]
  },
  {
   "cell_type": "code",
   "execution_count": 54,
   "metadata": {
    "collapsed": false
   },
   "outputs": [
    {
     "ename": "TypeError",
     "evalue": "Linkage matrix 'Z' must contain doubles.",
     "output_type": "error",
     "traceback": [
      "\u001b[1;31m---------------------------------------------------------------------------\u001b[0m",
      "\u001b[1;31mTypeError\u001b[0m                                 Traceback (most recent call last)",
      "\u001b[1;32m<ipython-input-54-d7d053c0153d>\u001b[0m in \u001b[0;36m<module>\u001b[1;34m()\u001b[0m\n\u001b[0;32m      2\u001b[0m     \u001b[0mdist\u001b[0m\u001b[1;33m,\u001b[0m\u001b[1;33m\u001b[0m\u001b[0m\n\u001b[0;32m      3\u001b[0m     \u001b[0mleaf_rotation\u001b[0m\u001b[1;33m=\u001b[0m\u001b[1;36m90.\u001b[0m\u001b[1;33m,\u001b[0m  \u001b[1;31m# rotates the x axis labels\u001b[0m\u001b[1;33m\u001b[0m\u001b[0m\n\u001b[1;32m----> 4\u001b[1;33m     \u001b[0mleaf_font_size\u001b[0m\u001b[1;33m=\u001b[0m\u001b[1;36m8.\u001b[0m\u001b[1;33m,\u001b[0m  \u001b[1;31m# font size for the x axis labels\u001b[0m\u001b[1;33m\u001b[0m\u001b[0m\n\u001b[0m\u001b[0;32m      5\u001b[0m )\n\u001b[0;32m      6\u001b[0m \u001b[0mplt\u001b[0m\u001b[1;33m.\u001b[0m\u001b[0mshow\u001b[0m\u001b[1;33m(\u001b[0m\u001b[1;33m)\u001b[0m\u001b[1;33m\u001b[0m\u001b[0m\n",
      "\u001b[1;32m/usr/local/lib/python2.7/dist-packages/scipy/cluster/hierarchy.pyc\u001b[0m in \u001b[0;36mdendrogram\u001b[1;34m(Z, p, truncate_mode, color_threshold, get_leaves, orientation, labels, count_sort, distance_sort, show_leaf_counts, no_plot, no_labels, leaf_font_size, leaf_rotation, leaf_label_func, show_contracted, link_color_func, ax, above_threshold_color)\u001b[0m\n\u001b[0;32m   2228\u001b[0m                          \"'bottom', or 'right'\")\n\u001b[0;32m   2229\u001b[0m \u001b[1;33m\u001b[0m\u001b[0m\n\u001b[1;32m-> 2230\u001b[1;33m     \u001b[0mis_valid_linkage\u001b[0m\u001b[1;33m(\u001b[0m\u001b[0mZ\u001b[0m\u001b[1;33m,\u001b[0m \u001b[0mthrow\u001b[0m\u001b[1;33m=\u001b[0m\u001b[0mTrue\u001b[0m\u001b[1;33m,\u001b[0m \u001b[0mname\u001b[0m\u001b[1;33m=\u001b[0m\u001b[1;34m'Z'\u001b[0m\u001b[1;33m)\u001b[0m\u001b[1;33m\u001b[0m\u001b[0m\n\u001b[0m\u001b[0;32m   2231\u001b[0m     \u001b[0mZs\u001b[0m \u001b[1;33m=\u001b[0m \u001b[0mZ\u001b[0m\u001b[1;33m.\u001b[0m\u001b[0mshape\u001b[0m\u001b[1;33m\u001b[0m\u001b[0m\n\u001b[0;32m   2232\u001b[0m     \u001b[0mn\u001b[0m \u001b[1;33m=\u001b[0m \u001b[0mZs\u001b[0m\u001b[1;33m[\u001b[0m\u001b[1;36m0\u001b[0m\u001b[1;33m]\u001b[0m \u001b[1;33m+\u001b[0m \u001b[1;36m1\u001b[0m\u001b[1;33m\u001b[0m\u001b[0m\n",
      "\u001b[1;32m/usr/local/lib/python2.7/dist-packages/scipy/cluster/hierarchy.pyc\u001b[0m in \u001b[0;36mis_valid_linkage\u001b[1;34m(Z, warning, throw, name)\u001b[0m\n\u001b[0;32m   1397\u001b[0m                             name_str)\n\u001b[0;32m   1398\u001b[0m         \u001b[1;32mif\u001b[0m \u001b[0mZ\u001b[0m\u001b[1;33m.\u001b[0m\u001b[0mdtype\u001b[0m \u001b[1;33m!=\u001b[0m \u001b[0mnp\u001b[0m\u001b[1;33m.\u001b[0m\u001b[0mdouble\u001b[0m\u001b[1;33m:\u001b[0m\u001b[1;33m\u001b[0m\u001b[0m\n\u001b[1;32m-> 1399\u001b[1;33m             \u001b[1;32mraise\u001b[0m \u001b[0mTypeError\u001b[0m\u001b[1;33m(\u001b[0m\u001b[1;34m'Linkage matrix %smust contain doubles.'\u001b[0m \u001b[1;33m%\u001b[0m \u001b[0mname_str\u001b[0m\u001b[1;33m)\u001b[0m\u001b[1;33m\u001b[0m\u001b[0m\n\u001b[0m\u001b[0;32m   1400\u001b[0m         \u001b[1;32mif\u001b[0m \u001b[0mlen\u001b[0m\u001b[1;33m(\u001b[0m\u001b[0mZ\u001b[0m\u001b[1;33m.\u001b[0m\u001b[0mshape\u001b[0m\u001b[1;33m)\u001b[0m \u001b[1;33m!=\u001b[0m \u001b[1;36m2\u001b[0m\u001b[1;33m:\u001b[0m\u001b[1;33m\u001b[0m\u001b[0m\n\u001b[0;32m   1401\u001b[0m             raise ValueError('Linkage matrix %smust have shape=2 (i.e. be '\n",
      "\u001b[1;31mTypeError\u001b[0m: Linkage matrix 'Z' must contain doubles."
     ]
    }
   ],
   "source": [
    "dendrogram(\n",
    "    dist,\n",
    "    leaf_rotation=90.,  # rotates the x axis labels\n",
    "    leaf_font_size=8.,  # font size for the x axis labels\n",
    ")\n",
    "plt.show()"
   ]
  },
  {
   "cell_type": "code",
   "execution_count": 55,
   "metadata": {
    "collapsed": false
   },
   "outputs": [
    {
     "data": {
      "text/plain": [
       "matrix([[0, 0, 0]])"
      ]
     },
     "execution_count": 55,
     "metadata": {},
     "output_type": "execute_result"
    }
   ],
   "source": [
    "dist"
   ]
  },
  {
   "cell_type": "code",
   "execution_count": 80,
   "metadata": {
    "collapsed": true
   },
   "outputs": [],
   "source": [
    "import matplotlib.mlab as mlab\n",
    "import matplotlib.pyplot as plt"
   ]
  },
  {
   "cell_type": "code",
   "execution_count": 53,
   "metadata": {
    "collapsed": false
   },
   "outputs": [],
   "source": [
    "result = session.run(\"MATCH (n:Articles)-[r:isWritten]-(m:Authors) WITH m.author_id as ntop, COUNT(r) as rank order by rank desc RETURN rank\")\n",
    "r1 = []\n",
    "for line in result:\n",
    "    r1.append(line[\"rank\"])"
   ]
  },
  {
   "cell_type": "code",
   "execution_count": 87,
   "metadata": {
    "collapsed": false
   },
   "outputs": [
    {
     "data": {
      "image/png": "[encoded data removed]",
      "text/plain": [
       "<matplotlib.figure.Figure at 0x7f3a38a1a2d0>"
      ]
     },
     "metadata": {},
     "output_type": "display_data"
    }
   ],
   "source": [
    "plt.hist(np.asarray(r1).flatten(), facecolor='green')\n",
    "plt.title(\"Distribution of the number of articles per author\")\n",
    "plt.xlabel(\"Articles\")\n",
    "plt.ylabel(\"Frequency\")\n",
    "plt.yscale('log', nonposy='clip')\n",
    "plt.show()"
   ]
  },
  {
   "cell_type": "code",
   "execution_count": 88,
   "metadata": {
    "collapsed": true
   },
   "outputs": [],
   "source": [
    "result = session.run(\"MATCH (n:Authors)-[r:isCoauthor]-(m:Authors) WITH n.author_id as ntop, COUNT(r) as rank  order by rank desc RETURN rank\")\n",
    "r2=[]\n",
    "for line in result:\n",
    "    r2.append(line[\"rank\"])"
   ]
  },
  {
   "cell_type": "code",
   "execution_count": 91,
   "metadata": {
    "collapsed": false
   },
   "outputs": [
    {
     "data": {
      "image/png": "[encoded data removed]",
      "text/plain": [
       "<matplotlib.figure.Figure at 0x7f3a384c2850>"
      ]
     },
     "metadata": {},
     "output_type": "display_data"
    }
   ],
   "source": [
    "plt.hist(np.asarray(r2).flatten(), facecolor='purple')\n",
    "plt.title(\"Distribution of the number of coauthors per author\")\n",
    "plt.xlabel(\"Coauthors\")\n",
    "plt.ylabel(\"Frequency\")\n",
    "plt.yscale('log', nonposy='clip')\n",
    "plt.show()"
   ]
  },
  {
   "cell_type": "code",
   "execution_count": null,
   "metadata": {
    "collapsed": true
   },
   "outputs": [],
   "source": [
    "session.close()"
   ]
  }
 ],
 "metadata": {
  "kernelspec": {
   "display_name": "Python 2",
   "language": "python",
   "name": "python2"
  },
  "language_info": {
   "codemirror_mode": {
    "name": "ipython",
    "version": 2
   },
   "file_extension": ".py",
   "mimetype": "text/x-python",
   "name": "python",
   "nbconvert_exporter": "python",
   "pygments_lexer": "ipython2",
   "version": "2.7.6"
  }
 },
 "nbformat": 4,
 "nbformat_minor": 0
}
